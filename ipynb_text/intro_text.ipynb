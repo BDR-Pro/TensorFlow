{
 "cells": [
  {
   "cell_type": "code",
   "execution_count": null,
   "metadata": {},
   "outputs": [],
   "source": [
    "import tensorflow as tf\n",
    "import tensorflow_text as tf_text\n",
    "\n",
    "print(\"TensorFlow version: \", tf.__version__)\n",
    "print(\"TensorFlow Text version: \", tf_text.__version__)\n",
    "\n",
    "def preprocess(vocab_lookup_table, example_text):\n",
    "\n",
    "  # Normalize text\n",
    "  tf_text.normalize_utf8(example_text)\n",
    "\n",
    "  # Tokenize into words\n",
    "  word_tokenizer = tf_text.WhitespaceTokenizer()\n",
    "  tokens = word_tokenizer.tokenize(example_text)\n",
    "\n",
    "  # Tokenize into subwords\n",
    "  subword_tokenizer = tf_text.WordpieceTokenizer(\n",
    "       vocab_lookup_table, token_out_type=tf.int64)\n",
    "  subtokens = subword_tokenizer.tokenize(tokens).merge_dims(1, -1)\n",
    "\n",
    "  # Apply padding\n",
    "  padded_inputs = tf_text.pad_model_inputs(subtokens, max_seq_length=16)\n",
    "  return padded_inputs\n"
   ]
  }
 ],
 "metadata": {
  "kernelspec": {
   "display_name": "Python 3",
   "language": "python",
   "name": "python3"
  },
  "language_info": {
   "codemirror_mode": {
    "name": "ipython",
    "version": 3
   },
   "file_extension": ".py",
   "mimetype": "text/x-python",
   "name": "python",
   "nbconvert_exporter": "python",
   "pygments_lexer": "ipython3",
   "version": "3.12.2"
  }
 },
 "nbformat": 4,
 "nbformat_minor": 2
}

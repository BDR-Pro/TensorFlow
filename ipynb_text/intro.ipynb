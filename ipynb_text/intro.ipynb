{
 "cells": [
  {
   "cell_type": "code",
   "execution_count": null,
   "metadata": {},
   "outputs": [],
   "source": [
    "%pip install --upgrade keras-nlp\n",
    "%pip install --upgrade keras"
   ]
  },
  {
   "cell_type": "code",
   "execution_count": null,
   "metadata": {},
   "outputs": [],
   "source": [
    "import keras_nlp\n",
    "import tensorflow_datasets as tfds\n",
    "\n",
    "imdb_train, imdb_test = tfds.load(\n",
    "  \"imdb_reviews\",\n",
    "  split=[\"train\", \"test\"],\n",
    "  as_supervised=True,\n",
    "  batch_size=16,\n",
    ")\n",
    "# Load a BERT model.\n",
    "classifier = keras_nlp.models.BertClassifier.from_preset(\"bert_base_en_uncased\")\n",
    "# Fine-tune on IMDb movie reviews.\n",
    "classifier.fit(imdb_train, validation_data=imdb_test)\n",
    "# Predict two new examples.\n",
    "classifier.predict([\"What an amazing movie!\", \"A total waste of my time.\"])\n"
   ]
  }
 ],
 "metadata": {
  "kernelspec": {
   "display_name": "Python 3",
   "language": "python",
   "name": "python3"
  },
  "language_info": {
   "codemirror_mode": {
    "name": "ipython",
    "version": 3
   },
   "file_extension": ".py",
   "mimetype": "text/x-python",
   "name": "python",
   "nbconvert_exporter": "python",
   "pygments_lexer": "ipython3",
   "version": "3.12.2"
  }
 },
 "nbformat": 4,
 "nbformat_minor": 2
}
